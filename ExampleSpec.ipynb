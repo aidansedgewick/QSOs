{
 "cells": [
  {
   "cell_type": "markdown",
   "metadata": {},
   "source": [
    "## Example spectra\n",
    "\n",
    "Here, we show generating an example synthetic spectra, calculating the scores, etc."
   ]
  },
  {
   "cell_type": "code",
   "execution_count": 2,
   "metadata": {},
   "outputs": [],
   "source": [
    "# Standard library imports\n",
    "import numpy as np\n",
    "import matplotlib.pyplot as plt\n",
    "import pandas as pd"
   ]
  },
  {
   "cell_type": "code",
   "execution_count": 3,
   "metadata": {},
   "outputs": [],
   "source": [
    "# Project specific imports\n",
    "import QSOtools as QT"
   ]
  },
  {
   "cell_type": "code",
   "execution_count": 4,
   "metadata": {},
   "outputs": [],
   "source": [
    "# Set some preferences for plt..."
   ]
  },
  {
   "cell_type": "code",
   "execution_count": 5,
   "metadata": {},
   "outputs": [],
   "source": [
    "workdir = './'"
   ]
  },
  {
   "cell_type": "markdown",
   "metadata": {},
   "source": [
    "What kind of spectra are available in SDSS?"
   ]
  },
  {
   "cell_type": "code",
   "execution_count": 6,
   "metadata": {},
   "outputs": [
    {
     "data": {
      "text/html": [
       "<div>\n",
       "<style scoped>\n",
       "    .dataframe tbody tr th:only-of-type {\n",
       "        vertical-align: middle;\n",
       "    }\n",
       "\n",
       "    .dataframe tbody tr th {\n",
       "        vertical-align: top;\n",
       "    }\n",
       "\n",
       "    .dataframe thead th {\n",
       "        text-align: right;\n",
       "    }\n",
       "</style>\n",
       "<table border=\"1\" class=\"dataframe\">\n",
       "  <thead>\n",
       "    <tr style=\"text-align: right;\">\n",
       "      <th></th>\n",
       "      <th>specObjID</th>\n",
       "      <th>ra</th>\n",
       "      <th>dec</th>\n",
       "      <th>z</th>\n",
       "      <th>plate</th>\n",
       "      <th>mjd</th>\n",
       "      <th>fiberid</th>\n",
       "      <th>urlfits</th>\n",
       "    </tr>\n",
       "  </thead>\n",
       "  <tbody>\n",
       "    <tr>\n",
       "      <th>0</th>\n",
       "      <td>300710684738480128</td>\n",
       "      <td>147.17010</td>\n",
       "      <td>0.539087</td>\n",
       "      <td>2.243463</td>\n",
       "      <td>267</td>\n",
       "      <td>51608</td>\n",
       "      <td>347</td>\n",
       "      <td>http://dr13.sdss.org/sas/dr13/sdss/spectro/red...</td>\n",
       "    </tr>\n",
       "    <tr>\n",
       "      <th>1</th>\n",
       "      <td>302891571118893056</td>\n",
       "      <td>150.98397</td>\n",
       "      <td>-0.994577</td>\n",
       "      <td>2.110910</td>\n",
       "      <td>269</td>\n",
       "      <td>51910</td>\n",
       "      <td>89</td>\n",
       "      <td>http://dr13.sdss.org/sas/dr13/sdss/spectro/red...</td>\n",
       "    </tr>\n",
       "    <tr>\n",
       "      <th>2</th>\n",
       "      <td>302973209857255424</td>\n",
       "      <td>150.69524</td>\n",
       "      <td>0.351117</td>\n",
       "      <td>2.167938</td>\n",
       "      <td>269</td>\n",
       "      <td>51910</td>\n",
       "      <td>386</td>\n",
       "      <td>http://dr13.sdss.org/sas/dr13/sdss/spectro/red...</td>\n",
       "    </tr>\n",
       "    <tr>\n",
       "      <th>3</th>\n",
       "      <td>305160412909824000</td>\n",
       "      <td>154.62245</td>\n",
       "      <td>-0.141852</td>\n",
       "      <td>2.137572</td>\n",
       "      <td>271</td>\n",
       "      <td>51883</td>\n",
       "      <td>151</td>\n",
       "      <td>http://dr13.sdss.org/sas/dr13/sdss/spectro/red...</td>\n",
       "    </tr>\n",
       "    <tr>\n",
       "      <th>4</th>\n",
       "      <td>305284657723762688</td>\n",
       "      <td>155.53053</td>\n",
       "      <td>0.800136</td>\n",
       "      <td>2.107791</td>\n",
       "      <td>271</td>\n",
       "      <td>51883</td>\n",
       "      <td>603</td>\n",
       "      <td>http://dr13.sdss.org/sas/dr13/sdss/spectro/red...</td>\n",
       "    </tr>\n",
       "  </tbody>\n",
       "</table>\n",
       "</div>"
      ],
      "text/plain": [
       "            specObjID         ra       dec         z  plate    mjd  fiberid  \\\n",
       "0  300710684738480128  147.17010  0.539087  2.243463    267  51608      347   \n",
       "1  302891571118893056  150.98397 -0.994577  2.110910    269  51910       89   \n",
       "2  302973209857255424  150.69524  0.351117  2.167938    269  51910      386   \n",
       "3  305160412909824000  154.62245 -0.141852  2.137572    271  51883      151   \n",
       "4  305284657723762688  155.53053  0.800136  2.107791    271  51883      603   \n",
       "\n",
       "                                             urlfits  \n",
       "0  http://dr13.sdss.org/sas/dr13/sdss/spectro/red...  \n",
       "1  http://dr13.sdss.org/sas/dr13/sdss/spectro/red...  \n",
       "2  http://dr13.sdss.org/sas/dr13/sdss/spectro/red...  \n",
       "3  http://dr13.sdss.org/sas/dr13/sdss/spectro/red...  \n",
       "4  http://dr13.sdss.org/sas/dr13/sdss/spectro/red...  "
      ]
     },
     "execution_count": 6,
     "metadata": {},
     "output_type": "execute_result"
    }
   ],
   "source": [
    "SDSScat = pd.read_csv(workdir+'datfiles/AllQSOspec_zgt2p1.csv')\n",
    "SDSScat.head()"
   ]
  },
  {
   "cell_type": "code",
   "execution_count": 7,
   "metadata": {},
   "outputs": [
    {
     "data": {
      "image/png": "[encoded data removed]",
      "text/plain": [
       "<Figure size 432x288 with 1 Axes>"
      ]
     },
     "metadata": {},
     "output_type": "display_data"
    }
   ],
   "source": [
    "zbins = np.linspace(SDSScat['z'].min(),SDSScat['z'].max(),20)\n",
    "zmids = 0.5*(zbins[:-1]+zbins[1:])\n",
    "\n",
    "hist,_ = np.histogram(SDSScat['z'],zbins)\n",
    "plt.plot(zmids,hist)\n",
    "plt.show()"
   ]
  },
  {
   "cell_type": "markdown",
   "metadata": {},
   "source": [
    "Define some things for our example spectra."
   ]
  },
  {
   "cell_type": "code",
   "execution_count": 52,
   "metadata": {},
   "outputs": [],
   "source": [
    "Lya = QT.Lya # This is already defined in QSOtools.\n",
    "z_em = 3.0\n",
    "DLA_definition = 20.3 # What is the column density of a DLA?\n",
    "v_min = -25000.0\n",
    "v_max = 300.0"
   ]
  },
  {
   "cell_type": "code",
   "execution_count": 53,
   "metadata": {},
   "outputs": [
    {
     "name": "stdout",
     "output_type": "stream",
     "text": [
      "Generated a DLA after 17 attempts\n"
     ]
    }
   ],
   "source": [
    "# We want a spectra with at lease one QSO!\n",
    "QSO_present = 0\n",
    "attempts = 0\n",
    "\n",
    "while QSO_present == 0:\n",
    "    attempts = attempts+1\n",
    "    spec_tuple = QT.generate_spectrum(z_em,v_min=v_min,v_max=v_max)\n",
    "    observed_wv,observed_fl,observed_sig,absorber_CDs,absorber_zs = spec_tuple\n",
    "    \n",
    "    if any(absorber_CDs > DLA_definition):\n",
    "        QSO_present = 1 # So we can quit the loop if we've found a DLA!\n",
    "print('Generated a DLA after %i attempts' %attempts)"
   ]
  },
  {
   "cell_type": "code",
   "execution_count": 59,
   "metadata": {},
   "outputs": [
    {
     "name": "stdout",
     "output_type": "stream",
     "text": [
      "The absorbers with large column densities are (descending):\n",
      "[20.368 20.116]\n"
     ]
    }
   ],
   "source": [
    "print('The absorbers with large column densities are (descending):')\n",
    "with np.printoptions(precision=3, suppress=True):\n",
    "    print(absorber_CDs)"
   ]
  },
  {
   "cell_type": "markdown",
   "metadata": {},
   "source": [
    "We're really only intrested in the bits blueward of the Ly$\\alpha$ emission."
   ]
  },
  {
   "cell_type": "code",
   "execution_count": 60,
   "metadata": {},
   "outputs": [],
   "source": [
    "prox_wv_max = (1.0 + z_em)*(1.0 + v_max/QT.c)*QT.Lya\n",
    "prox_wv_min = (1.0 + z_em)*(1.0 + v_min/QT.c)*QT.Lya\n",
    "prox_mask = (prox_wv_min < observed_wv) & (observed_wv < prox_wv_max)\n",
    "\n",
    "wv  = observed_wv[prox_mask]\n",
    "fl  = observed_fl[prox_mask]\n",
    "sig = observed_sig[prox_mask]\n"
   ]
  },
  {
   "cell_type": "markdown",
   "metadata": {},
   "source": [
    "We want to estimate the continuum."
   ]
  },
  {
   "cell_type": "code",
   "execution_count": 61,
   "metadata": {},
   "outputs": [],
   "source": [
    "cont = QT.get_continuum(z_em,wv,fl,sig,kind='smooth')\n",
    "\n",
    "c_fl = fl/cont\n",
    "c_sig = sig/cont\n"
   ]
  },
  {
   "cell_type": "code",
   "execution_count": 62,
   "metadata": {},
   "outputs": [],
   "source": [
    "# We can access the true continnum -- the restframe QSO template:\n",
    "true_cont_wv = QT.high_resolution_wv*(1.0+z_em)\n",
    "true_cont_fl = QT.high_resolution_fl"
   ]
  },
  {
   "cell_type": "code",
   "execution_count": 63,
   "metadata": {
    "scrolled": true
   },
   "outputs": [
    {
     "data": {
      "image/png": "[encoded data removed]",
      "text/plain": [
       "<Figure size 576x432 with 1 Axes>"
      ]
     },
     "metadata": {},
     "output_type": "display_data"
    }
   ],
   "source": [
    "fig,ax = plt.subplots(figsize=(8,6))\n",
    "ax.plot(wv,fl,'k',drawstyle='steps',label='Observed')\n",
    "ax.plot(true_cont_wv,true_cont_fl,label='True continuum')\n",
    "ax.plot(wv,cont,label='Est. continuum')\n",
    "ax.legend()\n",
    "\n",
    "ax.set_xlim(wv.min(),wv.max())\n",
    "ax.set_ylim(-1,10)\n",
    "\n",
    "plt.show()"
   ]
  },
  {
   "cell_type": "markdown",
   "metadata": {},
   "source": [
    "Now we have the continuum, we can estimate the scores.\n",
    "\n",
    "How many pixels do we want to calculate the score over? A DLA has width of 3.5$\\unicode{x212B}$ in restframe. So, at z=3.0, DLA will have width $3.5\\times(1.0+z_{em})=14.0\\unicode{x212B}$. SDSS has resolution 2.0$\\unicode{x212B}$, so this is $7$ pixels."
   ]
  },
  {
   "cell_type": "code",
   "execution_count": 64,
   "metadata": {},
   "outputs": [],
   "source": [
    "Npix = int(QT.restframe_window*(1.0+z_em)/QT.SDSS_resolution)"
   ]
  },
  {
   "cell_type": "code",
   "execution_count": 65,
   "metadata": {},
   "outputs": [],
   "source": [
    "score_wv,score_vals = QT.evaluate_scores(wv,c_fl,c_sig,Npix)"
   ]
  },
  {
   "cell_type": "code",
   "execution_count": null,
   "metadata": {},
   "outputs": [],
   "source": []
  },
  {
   "cell_type": "code",
   "execution_count": 66,
   "metadata": {},
   "outputs": [
    {
     "data": {
      "image/png": "[encoded data removed]",
      "text/plain": [
       "<Figure size 576x432 with 2 Axes>"
      ]
     },
     "metadata": {},
     "output_type": "display_data"
    }
   ],
   "source": [
    "# Set up the axes...\n",
    "gs = plt.GridSpec(2,1)\n",
    "fig = plt.figure(figsize=(8,6))\n",
    "ax1 = fig.add_subplot(gs[:1,:])\n",
    "ax2 = fig.add_subplot(gs[1:,:])\n",
    "\n",
    "ax1.set_xlim(wv.min(),wv.max())\n",
    "ax1.set_xticks([])\n",
    "\n",
    "ax2.set_xlim(wv.min(),wv.max())\n",
    "ax1.set_ylim(-0.05,1.25)\n",
    "\n",
    "fig.subplots_adjust(hspace=0)\n",
    "\n",
    "ax1.plot(wv,c_fl,'k')\n",
    "ax1.plot(wv,c_fl/c_fl,'k--')\n",
    "ax2.plot(score_wv,score_vals,'k')\n",
    "plt.show()"
   ]
  },
  {
   "cell_type": "markdown",
   "metadata": {},
   "source": [
    "Now we look for features in the scores..."
   ]
  },
  {
   "cell_type": "code",
   "execution_count": 67,
   "metadata": {},
   "outputs": [],
   "source": [
    "feature_widths, feature_zs = QT.extract_features(z_em,score_wv,score_vals,threshold=20)"
   ]
  },
  {
   "cell_type": "markdown",
   "metadata": {},
   "source": [
    "Match the features to the true absorbers -- currently by matching the largest absorber to the widest feature. Would also be nice to incude the absorber redshift comparison, but unsure of the best way to do this?"
   ]
  },
  {
   "cell_type": "code",
   "execution_count": 68,
   "metadata": {},
   "outputs": [],
   "source": [
    "this_QSO = QT.match_features(z_em,absorber_CDs,absorber_zs,feature_widths,feature_zs)"
   ]
  },
  {
   "cell_type": "code",
   "execution_count": 71,
   "metadata": {},
   "outputs": [
    {
     "data": {
      "text/html": [
       "<div>\n",
       "<style scoped>\n",
       "    .dataframe tbody tr th:only-of-type {\n",
       "        vertical-align: middle;\n",
       "    }\n",
       "\n",
       "    .dataframe tbody tr th {\n",
       "        vertical-align: top;\n",
       "    }\n",
       "\n",
       "    .dataframe thead th {\n",
       "        text-align: right;\n",
       "    }\n",
       "</style>\n",
       "<table border=\"1\" class=\"dataframe\">\n",
       "  <thead>\n",
       "    <tr style=\"text-align: right;\">\n",
       "      <th></th>\n",
       "      <th>z_em</th>\n",
       "      <th>absorber_CDs</th>\n",
       "      <th>absorber_zs</th>\n",
       "      <th>feature_widths</th>\n",
       "      <th>feature_zs</th>\n",
       "    </tr>\n",
       "  </thead>\n",
       "  <tbody>\n",
       "    <tr>\n",
       "      <th>0</th>\n",
       "      <td>3.0</td>\n",
       "      <td>20.367561</td>\n",
       "      <td>2.687804</td>\n",
       "      <td>3.5</td>\n",
       "      <td>2.689323</td>\n",
       "    </tr>\n",
       "    <tr>\n",
       "      <th>1</th>\n",
       "      <td>3.0</td>\n",
       "      <td>20.116304</td>\n",
       "      <td>2.983985</td>\n",
       "      <td>3.0</td>\n",
       "      <td>2.983811</td>\n",
       "    </tr>\n",
       "  </tbody>\n",
       "</table>\n",
       "</div>"
      ],
      "text/plain": [
       "   z_em  absorber_CDs  absorber_zs  feature_widths  feature_zs\n",
       "0   3.0     20.367561     2.687804             3.5    2.689323\n",
       "1   3.0     20.116304     2.983985             3.0    2.983811"
      ]
     },
     "execution_count": 71,
     "metadata": {},
     "output_type": "execute_result"
    }
   ],
   "source": [
    "cols = 'z_em absorber_CDs absorber_zs feature_widths feature_zs'.split()\n",
    "matches = pd.DataFrame(this_QSO,columns=cols)\n",
    "matches.head(n=20)"
   ]
  },
  {
   "cell_type": "code",
   "execution_count": null,
   "metadata": {},
   "outputs": [],
   "source": []
  }
 ],
 "metadata": {
  "kernelspec": {
   "display_name": "Python 3",
   "language": "python",
   "name": "python3"
  },
  "language_info": {
   "codemirror_mode": {
    "name": "ipython",
    "version": 3
   },
   "file_extension": ".py",
   "mimetype": "text/x-python",
   "name": "python",
   "nbconvert_exporter": "python",
   "pygments_lexer": "ipython3",
   "version": "3.6.3"
  }
 },
 "nbformat": 4,
 "nbformat_minor": 2
}
